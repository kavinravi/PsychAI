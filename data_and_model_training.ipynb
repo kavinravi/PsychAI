{
 "cells": [
  {
   "cell_type": "markdown",
   "id": "53f9cd54",
   "metadata": {},
   "source": [
    "# Gathering & Anonymizing Data"
   ]
  },
  {
   "cell_type": "markdown",
   "id": "824b4f65",
   "metadata": {},
   "source": [
    "## Data Sources:"
   ]
  },
  {
   "cell_type": "markdown",
   "id": "8cb78306",
   "metadata": {},
   "source": [
    "1. [counselor/participant Q&A pseudo-chats](https://github.com/nbertagnolli/counsel-chat)\n",
    "2. [HOPE Dataset (I filled out access request form)](https://github.com/LCS2-IIITD/SPARTA_WSDM2022/tree/main#hope-dataset-access-request)\n",
    "3. [APA link for videos, needs free trial](https://www.ebsco.com/products/research-databases/apa-psyctherapy#:~:text=APA%20PsycTherapy%20,repository%20of%20therapy%20videos)\n",
    "4."
   ]
  },
  {
   "cell_type": "markdown",
   "id": "d7d33d2c",
   "metadata": {},
   "source": []
  }
 ],
 "metadata": {
  "language_info": {
   "name": "python"
  }
 },
 "nbformat": 4,
 "nbformat_minor": 5
}
